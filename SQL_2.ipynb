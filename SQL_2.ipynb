{
  "nbformat": 4,
  "nbformat_minor": 0,
  "metadata": {
    "colab": {
      "name": "SQL 2",
      "provenance": [],
      "authorship_tag": "ABX9TyPqysminmzE4qkEMBbt1L0e",
      "include_colab_link": true
    },
    "kernelspec": {
      "name": "python3",
      "display_name": "Python 3"
    }
  },
  "cells": [
    {
      "cell_type": "markdown",
      "metadata": {
        "id": "view-in-github",
        "colab_type": "text"
      },
      "source": [
        "<a href=\"https://colab.research.google.com/github/lydiamokaya/SQL/blob/master/SQL_2.ipynb\" target=\"_parent\"><img src=\"https://colab.research.google.com/assets/colab-badge.svg\" alt=\"Open In Colab\"/></a>"
      ]
    },
    {
      "cell_type": "markdown",
      "metadata": {
        "id": "8elaiU0YtsMK",
        "colab_type": "text"
      },
      "source": [
        "CONNECTING TO OUR DATABASE"
      ]
    },
    {
      "cell_type": "code",
      "metadata": {
        "id": "qY_TwwGAsm2s",
        "colab_type": "code",
        "colab": {
          "base_uri": "https://localhost:8080/",
          "height": 34
        },
        "outputId": "8f8f4ea3-dfd2-4bec-c018-6b3cf5e6ebcc"
      },
      "source": [
        "# We will first load the sql extension into our environment\n",
        "%load_ext sql\n",
        "\n",
        "# Then connect to our in memory sqlite database\n",
        "# NB: This database will cease to exist as soon as the database connection is closed. \n",
        "%sql sqlite://"
      ],
      "execution_count": null,
      "outputs": [
        {
          "output_type": "execute_result",
          "data": {
            "text/plain": [
              "'Connected: @None'"
            ]
          },
          "metadata": {
            "tags": []
          },
          "execution_count": 1
        }
      ]
    },
    {
      "cell_type": "markdown",
      "metadata": {
        "id": "8iUK0X6euFcD",
        "colab_type": "text"
      },
      "source": [
        "LOADING DATA FROM OUR CSV FILES"
      ]
    },
    {
      "cell_type": "code",
      "metadata": {
        "id": "sMuSZc7Vt_r5",
        "colab_type": "code",
        "colab": {}
      },
      "source": [
        "# Importing Pandas\n",
        "import pandas as pd"
      ],
      "execution_count": null,
      "outputs": []
    },
    {
      "cell_type": "code",
      "metadata": {
        "id": "smwkANIGuMdy",
        "colab_type": "code",
        "colab": {
          "base_uri": "https://localhost:8080/",
          "height": 230
        },
        "outputId": "347ec43c-9de9-4ff5-91d4-b6d7709e4f9e"
      },
      "source": [
        "# Loading our GrandElectors dataset\n",
        "# \n",
        "#OUR CODE GOES HERE\n",
        "with open('GrandElectors_by_state.csv','r') as f:\n",
        "    GrandElectors = pd.read_csv(f, index_col=0, encoding='utf-8')\n",
        "\n",
        "%sql DROP TABLE if EXISTS GrandElectors;\n",
        "%sql PERSIST  GrandElectors;\n",
        "%sql SELECT * FROM GrandElectors LIMIT 5;"
      ],
      "execution_count": null,
      "outputs": [
        {
          "output_type": "stream",
          "text": [
            " * sqlite://\n",
            "Done.\n",
            " * sqlite://\n",
            " * sqlite://\n",
            "Done.\n"
          ],
          "name": "stdout"
        },
        {
          "output_type": "execute_result",
          "data": {
            "text/html": [
              "<table>\n",
              "    <tr>\n",
              "        <th>State</th>\n",
              "        <th>GrandElectors</th>\n",
              "    </tr>\n",
              "    <tr>\n",
              "        <td>Alabama</td>\n",
              "        <td>9</td>\n",
              "    </tr>\n",
              "    <tr>\n",
              "        <td>Alaska</td>\n",
              "        <td>3</td>\n",
              "    </tr>\n",
              "    <tr>\n",
              "        <td>Arizona</td>\n",
              "        <td>11</td>\n",
              "    </tr>\n",
              "    <tr>\n",
              "        <td>Arkansas</td>\n",
              "        <td>6</td>\n",
              "    </tr>\n",
              "    <tr>\n",
              "        <td>California</td>\n",
              "        <td>55</td>\n",
              "    </tr>\n",
              "</table>"
            ],
            "text/plain": [
              "[('Alabama', 9),\n",
              " ('Alaska', 3),\n",
              " ('Arizona', 11),\n",
              " ('Arkansas', 6),\n",
              " ('California', 55)]"
            ]
          },
          "metadata": {
            "tags": []
          },
          "execution_count": 3
        }
      ]
    },
    {
      "cell_type": "code",
      "metadata": {
        "id": "m2rN34JTudMg",
        "colab_type": "code",
        "colab": {
          "base_uri": "https://localhost:8080/",
          "height": 230
        },
        "outputId": "d4eaa6ba-d720-4cd9-fba2-9ebfeba68462"
      },
      "source": [
        "# Loading our population dataset \n",
        "# \n",
        "#OUR CODE GOES HERE\n",
        "with open('Population_by_state.csv','r') as f:\n",
        "    population = pd.read_csv(f, index_col=0, encoding='utf-8')\n",
        "\n",
        "%sql DROP TABLE if EXISTS population;\n",
        "%sql PERSIST population;\n",
        "%sql SELECT * FROM population LIMIT 5;"
      ],
      "execution_count": null,
      "outputs": [
        {
          "output_type": "stream",
          "text": [
            " * sqlite://\n",
            "Done.\n",
            " * sqlite://\n",
            " * sqlite://\n",
            "Done.\n"
          ],
          "name": "stdout"
        },
        {
          "output_type": "execute_result",
          "data": {
            "text/html": [
              "<table>\n",
              "    <tr>\n",
              "        <th>State</th>\n",
              "        <th>Population</th>\n",
              "    </tr>\n",
              "    <tr>\n",
              "        <td>CALIFORNIA</td>\n",
              "        <td>39144818</td>\n",
              "    </tr>\n",
              "    <tr>\n",
              "        <td>TEXAS</td>\n",
              "        <td>27469114</td>\n",
              "    </tr>\n",
              "    <tr>\n",
              "        <td>FLORIDA</td>\n",
              "        <td>20271272</td>\n",
              "    </tr>\n",
              "    <tr>\n",
              "        <td>NEW YORK</td>\n",
              "        <td>19795791</td>\n",
              "    </tr>\n",
              "    <tr>\n",
              "        <td>ILLINOIS</td>\n",
              "        <td>12859995</td>\n",
              "    </tr>\n",
              "</table>"
            ],
            "text/plain": [
              "[('CALIFORNIA', 39144818),\n",
              " ('TEXAS', 27469114),\n",
              " ('FLORIDA', 20271272),\n",
              " ('NEW YORK', 19795791),\n",
              " ('ILLINOIS', 12859995)]"
            ]
          },
          "metadata": {
            "tags": []
          },
          "execution_count": 4
        }
      ]
    },
    {
      "cell_type": "code",
      "metadata": {
        "id": "6ZAPqzGYumTC",
        "colab_type": "code",
        "colab": {
          "base_uri": "https://localhost:8080/",
          "height": 301
        },
        "outputId": "4965ee97-9ea1-4980-d55b-65c66bfa0561"
      },
      "source": [
        "#CHALLENGE 1\n",
        "#converting the states column to all uppercase.\n",
        "%%sql\n",
        "\n",
        "UPDATE GrandElectors SET State = UPPER(State);\n",
        "\n",
        "SELECT * FROM GrandElectors \n",
        "LIMIT 10;\n"
      ],
      "execution_count": null,
      "outputs": [
        {
          "output_type": "stream",
          "text": [
            " * sqlite://\n",
            "51 rows affected.\n",
            "Done.\n"
          ],
          "name": "stdout"
        },
        {
          "output_type": "execute_result",
          "data": {
            "text/html": [
              "<table>\n",
              "    <tr>\n",
              "        <th>State</th>\n",
              "        <th>GrandElectors</th>\n",
              "    </tr>\n",
              "    <tr>\n",
              "        <td>ALABAMA</td>\n",
              "        <td>9</td>\n",
              "    </tr>\n",
              "    <tr>\n",
              "        <td>ALASKA</td>\n",
              "        <td>3</td>\n",
              "    </tr>\n",
              "    <tr>\n",
              "        <td>ARIZONA</td>\n",
              "        <td>11</td>\n",
              "    </tr>\n",
              "    <tr>\n",
              "        <td>ARKANSAS</td>\n",
              "        <td>6</td>\n",
              "    </tr>\n",
              "    <tr>\n",
              "        <td>CALIFORNIA</td>\n",
              "        <td>55</td>\n",
              "    </tr>\n",
              "    <tr>\n",
              "        <td>COLORADO</td>\n",
              "        <td>9</td>\n",
              "    </tr>\n",
              "    <tr>\n",
              "        <td>CONNECTICUT</td>\n",
              "        <td>7</td>\n",
              "    </tr>\n",
              "    <tr>\n",
              "        <td>DISTRICT OF COLUMBIA</td>\n",
              "        <td>3</td>\n",
              "    </tr>\n",
              "    <tr>\n",
              "        <td>DELAWARE</td>\n",
              "        <td>3</td>\n",
              "    </tr>\n",
              "    <tr>\n",
              "        <td>FLORIDA</td>\n",
              "        <td>29</td>\n",
              "    </tr>\n",
              "</table>"
            ],
            "text/plain": [
              "[('ALABAMA', 9),\n",
              " ('ALASKA', 3),\n",
              " ('ARIZONA', 11),\n",
              " ('ARKANSAS', 6),\n",
              " ('CALIFORNIA', 55),\n",
              " ('COLORADO', 9),\n",
              " ('CONNECTICUT', 7),\n",
              " ('DISTRICT OF COLUMBIA', 3),\n",
              " ('DELAWARE', 3),\n",
              " ('FLORIDA', 29)]"
            ]
          },
          "metadata": {
            "tags": []
          },
          "execution_count": 5
        }
      ]
    },
    {
      "cell_type": "code",
      "metadata": {
        "id": "8PnfDMWMvNUq",
        "colab_type": "code",
        "colab": {
          "base_uri": "https://localhost:8080/",
          "height": 1000
        },
        "outputId": "96b7c89d-caf2-477b-f22d-2b07ce2077a7"
      },
      "source": [
        "#joining the 2 tables\n",
        "%%sql\n",
        "SELECT GrandElectors.state, GrandElectors.GrandElectors, population.Population FROM GrandElectors\n",
        "INNER JOIN population\n",
        "ON GrandElectors.state = population.state"
      ],
      "execution_count": null,
      "outputs": [
        {
          "output_type": "stream",
          "text": [
            " * sqlite://\n",
            "Done.\n"
          ],
          "name": "stdout"
        },
        {
          "output_type": "execute_result",
          "data": {
            "text/html": [
              "<table>\n",
              "    <tr>\n",
              "        <th>State</th>\n",
              "        <th>GrandElectors</th>\n",
              "        <th>Population</th>\n",
              "    </tr>\n",
              "    <tr>\n",
              "        <td>ALABAMA</td>\n",
              "        <td>9</td>\n",
              "        <td>4858979</td>\n",
              "    </tr>\n",
              "    <tr>\n",
              "        <td>ALASKA</td>\n",
              "        <td>3</td>\n",
              "        <td>738432</td>\n",
              "    </tr>\n",
              "    <tr>\n",
              "        <td>ARIZONA</td>\n",
              "        <td>11</td>\n",
              "        <td>6828065</td>\n",
              "    </tr>\n",
              "    <tr>\n",
              "        <td>ARKANSAS</td>\n",
              "        <td>6</td>\n",
              "        <td>2978204</td>\n",
              "    </tr>\n",
              "    <tr>\n",
              "        <td>CALIFORNIA</td>\n",
              "        <td>55</td>\n",
              "        <td>39144818</td>\n",
              "    </tr>\n",
              "    <tr>\n",
              "        <td>COLORADO</td>\n",
              "        <td>9</td>\n",
              "        <td>5456574</td>\n",
              "    </tr>\n",
              "    <tr>\n",
              "        <td>CONNECTICUT</td>\n",
              "        <td>7</td>\n",
              "        <td>3590886</td>\n",
              "    </tr>\n",
              "    <tr>\n",
              "        <td>DISTRICT OF COLUMBIA</td>\n",
              "        <td>3</td>\n",
              "        <td>672228</td>\n",
              "    </tr>\n",
              "    <tr>\n",
              "        <td>DELAWARE</td>\n",
              "        <td>3</td>\n",
              "        <td>945934</td>\n",
              "    </tr>\n",
              "    <tr>\n",
              "        <td>FLORIDA</td>\n",
              "        <td>29</td>\n",
              "        <td>20271272</td>\n",
              "    </tr>\n",
              "    <tr>\n",
              "        <td>GEORGIA</td>\n",
              "        <td>16</td>\n",
              "        <td>10214860</td>\n",
              "    </tr>\n",
              "    <tr>\n",
              "        <td>HAWAII</td>\n",
              "        <td>4</td>\n",
              "        <td>1431603</td>\n",
              "    </tr>\n",
              "    <tr>\n",
              "        <td>IDAHO</td>\n",
              "        <td>4</td>\n",
              "        <td>1654930</td>\n",
              "    </tr>\n",
              "    <tr>\n",
              "        <td>ILLINOIS</td>\n",
              "        <td>20</td>\n",
              "        <td>12859995</td>\n",
              "    </tr>\n",
              "    <tr>\n",
              "        <td>INDIANA</td>\n",
              "        <td>11</td>\n",
              "        <td>6619680</td>\n",
              "    </tr>\n",
              "    <tr>\n",
              "        <td>IOWA</td>\n",
              "        <td>6</td>\n",
              "        <td>3123899</td>\n",
              "    </tr>\n",
              "    <tr>\n",
              "        <td>KANSAS</td>\n",
              "        <td>6</td>\n",
              "        <td>2911641</td>\n",
              "    </tr>\n",
              "    <tr>\n",
              "        <td>KENTUCKY</td>\n",
              "        <td>8</td>\n",
              "        <td>4425092</td>\n",
              "    </tr>\n",
              "    <tr>\n",
              "        <td>LOUISIANA</td>\n",
              "        <td>8</td>\n",
              "        <td>4670724</td>\n",
              "    </tr>\n",
              "    <tr>\n",
              "        <td>MAINE</td>\n",
              "        <td>4</td>\n",
              "        <td>1329328</td>\n",
              "    </tr>\n",
              "    <tr>\n",
              "        <td>MARYLAND</td>\n",
              "        <td>10</td>\n",
              "        <td>6006401</td>\n",
              "    </tr>\n",
              "    <tr>\n",
              "        <td>MASSACHUSETTS</td>\n",
              "        <td>11</td>\n",
              "        <td>6794422</td>\n",
              "    </tr>\n",
              "    <tr>\n",
              "        <td>MICHIGAN</td>\n",
              "        <td>16</td>\n",
              "        <td>9922576</td>\n",
              "    </tr>\n",
              "    <tr>\n",
              "        <td>MINNESOTA</td>\n",
              "        <td>10</td>\n",
              "        <td>5489594</td>\n",
              "    </tr>\n",
              "    <tr>\n",
              "        <td>MISSISSIPPI</td>\n",
              "        <td>6</td>\n",
              "        <td>2992333</td>\n",
              "    </tr>\n",
              "    <tr>\n",
              "        <td>MISSOURI</td>\n",
              "        <td>10</td>\n",
              "        <td>6083672</td>\n",
              "    </tr>\n",
              "    <tr>\n",
              "        <td>MONTANA</td>\n",
              "        <td>3</td>\n",
              "        <td>1032949</td>\n",
              "    </tr>\n",
              "    <tr>\n",
              "        <td>NEBRASKA</td>\n",
              "        <td>5</td>\n",
              "        <td>1896190</td>\n",
              "    </tr>\n",
              "    <tr>\n",
              "        <td>NEVADA</td>\n",
              "        <td>6</td>\n",
              "        <td>2890845</td>\n",
              "    </tr>\n",
              "    <tr>\n",
              "        <td>NEW HAMPSHIRE</td>\n",
              "        <td>4</td>\n",
              "        <td>1330608</td>\n",
              "    </tr>\n",
              "    <tr>\n",
              "        <td>NEW JERSEY</td>\n",
              "        <td>14</td>\n",
              "        <td>8958013</td>\n",
              "    </tr>\n",
              "    <tr>\n",
              "        <td>NEW MEXICO</td>\n",
              "        <td>5</td>\n",
              "        <td>2085109</td>\n",
              "    </tr>\n",
              "    <tr>\n",
              "        <td>NEW YORK</td>\n",
              "        <td>29</td>\n",
              "        <td>19795791</td>\n",
              "    </tr>\n",
              "    <tr>\n",
              "        <td>NORTH CAROLINA</td>\n",
              "        <td>15</td>\n",
              "        <td>10042802</td>\n",
              "    </tr>\n",
              "    <tr>\n",
              "        <td>NORTH DAKOTA</td>\n",
              "        <td>3</td>\n",
              "        <td>756927</td>\n",
              "    </tr>\n",
              "    <tr>\n",
              "        <td>OHIO</td>\n",
              "        <td>18</td>\n",
              "        <td>11613423</td>\n",
              "    </tr>\n",
              "    <tr>\n",
              "        <td>OKLAHOMA</td>\n",
              "        <td>7</td>\n",
              "        <td>3911338</td>\n",
              "    </tr>\n",
              "    <tr>\n",
              "        <td>OREGON</td>\n",
              "        <td>7</td>\n",
              "        <td>4028977</td>\n",
              "    </tr>\n",
              "    <tr>\n",
              "        <td>PENNSYLVANIA</td>\n",
              "        <td>20</td>\n",
              "        <td>12802503</td>\n",
              "    </tr>\n",
              "    <tr>\n",
              "        <td>RHODE ISLAND</td>\n",
              "        <td>4</td>\n",
              "        <td>1056298</td>\n",
              "    </tr>\n",
              "    <tr>\n",
              "        <td>SOUTH CAROLINA</td>\n",
              "        <td>9</td>\n",
              "        <td>4896146</td>\n",
              "    </tr>\n",
              "    <tr>\n",
              "        <td>SOUTH DAKOTA</td>\n",
              "        <td>3</td>\n",
              "        <td>858469</td>\n",
              "    </tr>\n",
              "    <tr>\n",
              "        <td>TENNESSEE</td>\n",
              "        <td>11</td>\n",
              "        <td>6600299</td>\n",
              "    </tr>\n",
              "    <tr>\n",
              "        <td>TEXAS</td>\n",
              "        <td>38</td>\n",
              "        <td>27469114</td>\n",
              "    </tr>\n",
              "    <tr>\n",
              "        <td>UTAH</td>\n",
              "        <td>6</td>\n",
              "        <td>2995919</td>\n",
              "    </tr>\n",
              "    <tr>\n",
              "        <td>VERMONT</td>\n",
              "        <td>3</td>\n",
              "        <td>626042</td>\n",
              "    </tr>\n",
              "    <tr>\n",
              "        <td>VIRGINIA</td>\n",
              "        <td>13</td>\n",
              "        <td>8382993</td>\n",
              "    </tr>\n",
              "    <tr>\n",
              "        <td>WASHINGTON</td>\n",
              "        <td>12</td>\n",
              "        <td>7170351</td>\n",
              "    </tr>\n",
              "    <tr>\n",
              "        <td>WEST VIRGINIA</td>\n",
              "        <td>5</td>\n",
              "        <td>1844128</td>\n",
              "    </tr>\n",
              "    <tr>\n",
              "        <td>WISCONSIN</td>\n",
              "        <td>10</td>\n",
              "        <td>5771337</td>\n",
              "    </tr>\n",
              "    <tr>\n",
              "        <td>WYOMING</td>\n",
              "        <td>3</td>\n",
              "        <td>586107</td>\n",
              "    </tr>\n",
              "</table>"
            ],
            "text/plain": [
              "[('ALABAMA', 9, 4858979),\n",
              " ('ALASKA', 3, 738432),\n",
              " ('ARIZONA', 11, 6828065),\n",
              " ('ARKANSAS', 6, 2978204),\n",
              " ('CALIFORNIA', 55, 39144818),\n",
              " ('COLORADO', 9, 5456574),\n",
              " ('CONNECTICUT', 7, 3590886),\n",
              " ('DISTRICT OF COLUMBIA', 3, 672228),\n",
              " ('DELAWARE', 3, 945934),\n",
              " ('FLORIDA', 29, 20271272),\n",
              " ('GEORGIA', 16, 10214860),\n",
              " ('HAWAII', 4, 1431603),\n",
              " ('IDAHO', 4, 1654930),\n",
              " ('ILLINOIS', 20, 12859995),\n",
              " ('INDIANA', 11, 6619680),\n",
              " ('IOWA', 6, 3123899),\n",
              " ('KANSAS', 6, 2911641),\n",
              " ('KENTUCKY', 8, 4425092),\n",
              " ('LOUISIANA', 8, 4670724),\n",
              " ('MAINE', 4, 1329328),\n",
              " ('MARYLAND', 10, 6006401),\n",
              " ('MASSACHUSETTS', 11, 6794422),\n",
              " ('MICHIGAN', 16, 9922576),\n",
              " ('MINNESOTA', 10, 5489594),\n",
              " ('MISSISSIPPI', 6, 2992333),\n",
              " ('MISSOURI', 10, 6083672),\n",
              " ('MONTANA', 3, 1032949),\n",
              " ('NEBRASKA', 5, 1896190),\n",
              " ('NEVADA', 6, 2890845),\n",
              " ('NEW HAMPSHIRE', 4, 1330608),\n",
              " ('NEW JERSEY', 14, 8958013),\n",
              " ('NEW MEXICO', 5, 2085109),\n",
              " ('NEW YORK', 29, 19795791),\n",
              " ('NORTH CAROLINA', 15, 10042802),\n",
              " ('NORTH DAKOTA', 3, 756927),\n",
              " ('OHIO', 18, 11613423),\n",
              " ('OKLAHOMA', 7, 3911338),\n",
              " ('OREGON', 7, 4028977),\n",
              " ('PENNSYLVANIA', 20, 12802503),\n",
              " ('RHODE ISLAND', 4, 1056298),\n",
              " ('SOUTH CAROLINA', 9, 4896146),\n",
              " ('SOUTH DAKOTA', 3, 858469),\n",
              " ('TENNESSEE', 11, 6600299),\n",
              " ('TEXAS', 38, 27469114),\n",
              " ('UTAH', 6, 2995919),\n",
              " ('VERMONT', 3, 626042),\n",
              " ('VIRGINIA', 13, 8382993),\n",
              " ('WASHINGTON', 12, 7170351),\n",
              " ('WEST VIRGINIA', 5, 1844128),\n",
              " ('WISCONSIN', 10, 5771337),\n",
              " ('WYOMING', 3, 586107)]"
            ]
          },
          "metadata": {
            "tags": []
          },
          "execution_count": 6
        }
      ]
    },
    {
      "cell_type": "code",
      "metadata": {
        "id": "6BhHx9PEvcwq",
        "colab_type": "code",
        "colab": {
          "base_uri": "https://localhost:8080/",
          "height": 68
        },
        "outputId": "c0016994-1b84-4306-fd4a-bcb68dee79b6"
      },
      "source": [
        "#creating and naming the new table\n",
        "%%sql\n",
        "CREATE TABLE US_Elections AS\n",
        "SELECT GrandElectors.State, population.population, GrandElectors.GrandElectors\n",
        "FROM GrandElectors \n",
        "INNER JOIN population ON GrandElectors.State = population.state;"
      ],
      "execution_count": null,
      "outputs": [
        {
          "output_type": "stream",
          "text": [
            " * sqlite://\n",
            "Done.\n"
          ],
          "name": "stdout"
        },
        {
          "output_type": "execute_result",
          "data": {
            "text/plain": [
              "[]"
            ]
          },
          "metadata": {
            "tags": []
          },
          "execution_count": 7
        }
      ]
    },
    {
      "cell_type": "code",
      "metadata": {
        "id": "5L3UKXppvtM6",
        "colab_type": "code",
        "colab": {
          "base_uri": "https://localhost:8080/",
          "height": 284
        },
        "outputId": "a429afe6-0fd3-49eb-d3fc-a8806c9df49d"
      },
      "source": [
        "#printing out the new table\n",
        "%%sql\n",
        "SELECT* from US_Elections\n",
        "LIMIT 10;"
      ],
      "execution_count": null,
      "outputs": [
        {
          "output_type": "stream",
          "text": [
            " * sqlite://\n",
            "Done.\n"
          ],
          "name": "stdout"
        },
        {
          "output_type": "execute_result",
          "data": {
            "text/html": [
              "<table>\n",
              "    <tr>\n",
              "        <th>State</th>\n",
              "        <th>Population</th>\n",
              "        <th>GrandElectors</th>\n",
              "    </tr>\n",
              "    <tr>\n",
              "        <td>ALABAMA</td>\n",
              "        <td>4858979</td>\n",
              "        <td>9</td>\n",
              "    </tr>\n",
              "    <tr>\n",
              "        <td>ALASKA</td>\n",
              "        <td>738432</td>\n",
              "        <td>3</td>\n",
              "    </tr>\n",
              "    <tr>\n",
              "        <td>ARIZONA</td>\n",
              "        <td>6828065</td>\n",
              "        <td>11</td>\n",
              "    </tr>\n",
              "    <tr>\n",
              "        <td>ARKANSAS</td>\n",
              "        <td>2978204</td>\n",
              "        <td>6</td>\n",
              "    </tr>\n",
              "    <tr>\n",
              "        <td>CALIFORNIA</td>\n",
              "        <td>39144818</td>\n",
              "        <td>55</td>\n",
              "    </tr>\n",
              "    <tr>\n",
              "        <td>COLORADO</td>\n",
              "        <td>5456574</td>\n",
              "        <td>9</td>\n",
              "    </tr>\n",
              "    <tr>\n",
              "        <td>CONNECTICUT</td>\n",
              "        <td>3590886</td>\n",
              "        <td>7</td>\n",
              "    </tr>\n",
              "    <tr>\n",
              "        <td>DISTRICT OF COLUMBIA</td>\n",
              "        <td>672228</td>\n",
              "        <td>3</td>\n",
              "    </tr>\n",
              "    <tr>\n",
              "        <td>DELAWARE</td>\n",
              "        <td>945934</td>\n",
              "        <td>3</td>\n",
              "    </tr>\n",
              "    <tr>\n",
              "        <td>FLORIDA</td>\n",
              "        <td>20271272</td>\n",
              "        <td>29</td>\n",
              "    </tr>\n",
              "</table>"
            ],
            "text/plain": [
              "[('ALABAMA', 4858979, 9),\n",
              " ('ALASKA', 738432, 3),\n",
              " ('ARIZONA', 6828065, 11),\n",
              " ('ARKANSAS', 2978204, 6),\n",
              " ('CALIFORNIA', 39144818, 55),\n",
              " ('COLORADO', 5456574, 9),\n",
              " ('CONNECTICUT', 3590886, 7),\n",
              " ('DISTRICT OF COLUMBIA', 672228, 3),\n",
              " ('DELAWARE', 945934, 3),\n",
              " ('FLORIDA', 20271272, 29)]"
            ]
          },
          "metadata": {
            "tags": []
          },
          "execution_count": 8
        }
      ]
    },
    {
      "cell_type": "code",
      "metadata": {
        "id": "IjrMdjJZv_5j",
        "colab_type": "code",
        "colab": {
          "base_uri": "https://localhost:8080/",
          "height": 68
        },
        "outputId": "31d04b04-1fcf-48b7-ba70-0175203c8853"
      },
      "source": [
        "#CHALLENGE 2\n",
        "#change the name of the \"District of Columbia\" state to its short version \"DC\"\n",
        "%%sql\n",
        "UPDATE US_Elections\n",
        "SET State = \"DC\"\n",
        "WHERE State = \"DISTRICT OF COLUMBIA\";\n",
        " "
      ],
      "execution_count": null,
      "outputs": [
        {
          "output_type": "stream",
          "text": [
            " * sqlite://\n",
            "1 rows affected.\n"
          ],
          "name": "stdout"
        },
        {
          "output_type": "execute_result",
          "data": {
            "text/plain": [
              "[]"
            ]
          },
          "metadata": {
            "tags": []
          },
          "execution_count": 9
        }
      ]
    },
    {
      "cell_type": "code",
      "metadata": {
        "id": "i87h35ZfwOTv",
        "colab_type": "code",
        "colab": {
          "base_uri": "https://localhost:8080/",
          "height": 284
        },
        "outputId": "4e2ebd14-25c4-427d-bd17-a99911f4c6ee"
      },
      "source": [
        "%%sql\n",
        "SELECT * from US_Elections\n",
        "LIMIT 10;"
      ],
      "execution_count": null,
      "outputs": [
        {
          "output_type": "stream",
          "text": [
            " * sqlite://\n",
            "Done.\n"
          ],
          "name": "stdout"
        },
        {
          "output_type": "execute_result",
          "data": {
            "text/html": [
              "<table>\n",
              "    <tr>\n",
              "        <th>State</th>\n",
              "        <th>Population</th>\n",
              "        <th>GrandElectors</th>\n",
              "    </tr>\n",
              "    <tr>\n",
              "        <td>ALABAMA</td>\n",
              "        <td>4858979</td>\n",
              "        <td>9</td>\n",
              "    </tr>\n",
              "    <tr>\n",
              "        <td>ALASKA</td>\n",
              "        <td>738432</td>\n",
              "        <td>3</td>\n",
              "    </tr>\n",
              "    <tr>\n",
              "        <td>ARIZONA</td>\n",
              "        <td>6828065</td>\n",
              "        <td>11</td>\n",
              "    </tr>\n",
              "    <tr>\n",
              "        <td>ARKANSAS</td>\n",
              "        <td>2978204</td>\n",
              "        <td>6</td>\n",
              "    </tr>\n",
              "    <tr>\n",
              "        <td>CALIFORNIA</td>\n",
              "        <td>39144818</td>\n",
              "        <td>55</td>\n",
              "    </tr>\n",
              "    <tr>\n",
              "        <td>COLORADO</td>\n",
              "        <td>5456574</td>\n",
              "        <td>9</td>\n",
              "    </tr>\n",
              "    <tr>\n",
              "        <td>CONNECTICUT</td>\n",
              "        <td>3590886</td>\n",
              "        <td>7</td>\n",
              "    </tr>\n",
              "    <tr>\n",
              "        <td>DC</td>\n",
              "        <td>672228</td>\n",
              "        <td>3</td>\n",
              "    </tr>\n",
              "    <tr>\n",
              "        <td>DELAWARE</td>\n",
              "        <td>945934</td>\n",
              "        <td>3</td>\n",
              "    </tr>\n",
              "    <tr>\n",
              "        <td>FLORIDA</td>\n",
              "        <td>20271272</td>\n",
              "        <td>29</td>\n",
              "    </tr>\n",
              "</table>"
            ],
            "text/plain": [
              "[('ALABAMA', 4858979, 9),\n",
              " ('ALASKA', 738432, 3),\n",
              " ('ARIZONA', 6828065, 11),\n",
              " ('ARKANSAS', 2978204, 6),\n",
              " ('CALIFORNIA', 39144818, 55),\n",
              " ('COLORADO', 5456574, 9),\n",
              " ('CONNECTICUT', 3590886, 7),\n",
              " ('DC', 672228, 3),\n",
              " ('DELAWARE', 945934, 3),\n",
              " ('FLORIDA', 20271272, 29)]"
            ]
          },
          "metadata": {
            "tags": []
          },
          "execution_count": 10
        }
      ]
    },
    {
      "cell_type": "code",
      "metadata": {
        "id": "YhQ0uW3uwdRE",
        "colab_type": "code",
        "colab": {
          "base_uri": "https://localhost:8080/",
          "height": 85
        },
        "outputId": "775317a5-7de7-44b0-c538-b28f017d7a30"
      },
      "source": [
        "#CHALLENGE 3\n",
        "#compute the ratio between the number of grand electors and the population.\n",
        "%%sql\n",
        "ALTER TABLE US_Elections ADD grandelectors_per_capita;\n",
        "UPDATE US_Elections\n",
        "SET grandelectors_per_capita = (Population/GrandElectors);\n"
      ],
      "execution_count": null,
      "outputs": [
        {
          "output_type": "stream",
          "text": [
            " * sqlite://\n",
            "Done.\n",
            "51 rows affected.\n"
          ],
          "name": "stdout"
        },
        {
          "output_type": "execute_result",
          "data": {
            "text/plain": [
              "[]"
            ]
          },
          "metadata": {
            "tags": []
          },
          "execution_count": 11
        }
      ]
    },
    {
      "cell_type": "code",
      "metadata": {
        "id": "h_Lo47MHyWn6",
        "colab_type": "code",
        "colab": {
          "base_uri": "https://localhost:8080/",
          "height": 284
        },
        "outputId": "3effbd06-dc45-4323-dbd1-5b735bf4e332"
      },
      "source": [
        "#output\n",
        "%%sql\n",
        "SELECT * from US_Elections\n",
        "LIMIT 10;\n"
      ],
      "execution_count": null,
      "outputs": [
        {
          "output_type": "stream",
          "text": [
            " * sqlite://\n",
            "Done.\n"
          ],
          "name": "stdout"
        },
        {
          "output_type": "execute_result",
          "data": {
            "text/html": [
              "<table>\n",
              "    <tr>\n",
              "        <th>State</th>\n",
              "        <th>Population</th>\n",
              "        <th>GrandElectors</th>\n",
              "        <th>grandelectors_per_capita</th>\n",
              "    </tr>\n",
              "    <tr>\n",
              "        <td>ALABAMA</td>\n",
              "        <td>4858979</td>\n",
              "        <td>9</td>\n",
              "        <td>539886</td>\n",
              "    </tr>\n",
              "    <tr>\n",
              "        <td>ALASKA</td>\n",
              "        <td>738432</td>\n",
              "        <td>3</td>\n",
              "        <td>246144</td>\n",
              "    </tr>\n",
              "    <tr>\n",
              "        <td>ARIZONA</td>\n",
              "        <td>6828065</td>\n",
              "        <td>11</td>\n",
              "        <td>620733</td>\n",
              "    </tr>\n",
              "    <tr>\n",
              "        <td>ARKANSAS</td>\n",
              "        <td>2978204</td>\n",
              "        <td>6</td>\n",
              "        <td>496367</td>\n",
              "    </tr>\n",
              "    <tr>\n",
              "        <td>CALIFORNIA</td>\n",
              "        <td>39144818</td>\n",
              "        <td>55</td>\n",
              "        <td>711723</td>\n",
              "    </tr>\n",
              "    <tr>\n",
              "        <td>COLORADO</td>\n",
              "        <td>5456574</td>\n",
              "        <td>9</td>\n",
              "        <td>606286</td>\n",
              "    </tr>\n",
              "    <tr>\n",
              "        <td>CONNECTICUT</td>\n",
              "        <td>3590886</td>\n",
              "        <td>7</td>\n",
              "        <td>512983</td>\n",
              "    </tr>\n",
              "    <tr>\n",
              "        <td>DC</td>\n",
              "        <td>672228</td>\n",
              "        <td>3</td>\n",
              "        <td>224076</td>\n",
              "    </tr>\n",
              "    <tr>\n",
              "        <td>DELAWARE</td>\n",
              "        <td>945934</td>\n",
              "        <td>3</td>\n",
              "        <td>315311</td>\n",
              "    </tr>\n",
              "    <tr>\n",
              "        <td>FLORIDA</td>\n",
              "        <td>20271272</td>\n",
              "        <td>29</td>\n",
              "        <td>699009</td>\n",
              "    </tr>\n",
              "</table>"
            ],
            "text/plain": [
              "[('ALABAMA', 4858979, 9, 539886),\n",
              " ('ALASKA', 738432, 3, 246144),\n",
              " ('ARIZONA', 6828065, 11, 620733),\n",
              " ('ARKANSAS', 2978204, 6, 496367),\n",
              " ('CALIFORNIA', 39144818, 55, 711723),\n",
              " ('COLORADO', 5456574, 9, 606286),\n",
              " ('CONNECTICUT', 3590886, 7, 512983),\n",
              " ('DC', 672228, 3, 224076),\n",
              " ('DELAWARE', 945934, 3, 315311),\n",
              " ('FLORIDA', 20271272, 29, 699009)]"
            ]
          },
          "metadata": {
            "tags": []
          },
          "execution_count": 12
        }
      ]
    },
    {
      "cell_type": "code",
      "metadata": {
        "id": "q1BJndJbyvbS",
        "colab_type": "code",
        "colab": {
          "base_uri": "https://localhost:8080/",
          "height": 284
        },
        "outputId": "c543278e-d8a5-4958-b916-75c0175e0a5d"
      },
      "source": [
        "#CHALLENGE 4\n",
        "#order the states by decreasing ratio of Grand Electors per capita. \n",
        "%%sql\n",
        "SELECT * FROM US_Elections\n",
        "ORDER BY grandelectors_per_capita DESC\n",
        "Limit 10;"
      ],
      "execution_count": null,
      "outputs": [
        {
          "output_type": "stream",
          "text": [
            " * sqlite://\n",
            "Done.\n"
          ],
          "name": "stdout"
        },
        {
          "output_type": "execute_result",
          "data": {
            "text/html": [
              "<table>\n",
              "    <tr>\n",
              "        <th>State</th>\n",
              "        <th>Population</th>\n",
              "        <th>GrandElectors</th>\n",
              "        <th>grandelectors_per_capita</th>\n",
              "    </tr>\n",
              "    <tr>\n",
              "        <td>TEXAS</td>\n",
              "        <td>27469114</td>\n",
              "        <td>38</td>\n",
              "        <td>722871</td>\n",
              "    </tr>\n",
              "    <tr>\n",
              "        <td>CALIFORNIA</td>\n",
              "        <td>39144818</td>\n",
              "        <td>55</td>\n",
              "        <td>711723</td>\n",
              "    </tr>\n",
              "    <tr>\n",
              "        <td>FLORIDA</td>\n",
              "        <td>20271272</td>\n",
              "        <td>29</td>\n",
              "        <td>699009</td>\n",
              "    </tr>\n",
              "    <tr>\n",
              "        <td>NEW YORK</td>\n",
              "        <td>19795791</td>\n",
              "        <td>29</td>\n",
              "        <td>682613</td>\n",
              "    </tr>\n",
              "    <tr>\n",
              "        <td>NORTH CAROLINA</td>\n",
              "        <td>10042802</td>\n",
              "        <td>15</td>\n",
              "        <td>669520</td>\n",
              "    </tr>\n",
              "    <tr>\n",
              "        <td>OHIO</td>\n",
              "        <td>11613423</td>\n",
              "        <td>18</td>\n",
              "        <td>645190</td>\n",
              "    </tr>\n",
              "    <tr>\n",
              "        <td>VIRGINIA</td>\n",
              "        <td>8382993</td>\n",
              "        <td>13</td>\n",
              "        <td>644845</td>\n",
              "    </tr>\n",
              "    <tr>\n",
              "        <td>ILLINOIS</td>\n",
              "        <td>12859995</td>\n",
              "        <td>20</td>\n",
              "        <td>642999</td>\n",
              "    </tr>\n",
              "    <tr>\n",
              "        <td>PENNSYLVANIA</td>\n",
              "        <td>12802503</td>\n",
              "        <td>20</td>\n",
              "        <td>640125</td>\n",
              "    </tr>\n",
              "    <tr>\n",
              "        <td>NEW JERSEY</td>\n",
              "        <td>8958013</td>\n",
              "        <td>14</td>\n",
              "        <td>639858</td>\n",
              "    </tr>\n",
              "</table>"
            ],
            "text/plain": [
              "[('TEXAS', 27469114, 38, 722871),\n",
              " ('CALIFORNIA', 39144818, 55, 711723),\n",
              " ('FLORIDA', 20271272, 29, 699009),\n",
              " ('NEW YORK', 19795791, 29, 682613),\n",
              " ('NORTH CAROLINA', 10042802, 15, 669520),\n",
              " ('OHIO', 11613423, 18, 645190),\n",
              " ('VIRGINIA', 8382993, 13, 644845),\n",
              " ('ILLINOIS', 12859995, 20, 642999),\n",
              " ('PENNSYLVANIA', 12802503, 20, 640125),\n",
              " ('NEW JERSEY', 8958013, 14, 639858)]"
            ]
          },
          "metadata": {
            "tags": []
          },
          "execution_count": 13
        }
      ]
    },
    {
      "cell_type": "code",
      "metadata": {
        "id": "fBs60qo1zMMl",
        "colab_type": "code",
        "colab": {
          "base_uri": "https://localhost:8080/",
          "height": 112
        },
        "outputId": "86ff973b-9fe0-4559-ac8f-58feb8f899d0"
      },
      "source": [
        "#CHALLENGE 5\n",
        "# compute the running total of Grand Electors in that sorted list\n",
        "%%sql\n",
        "CREATE TABLE sorted_list AS \n",
        "SELECT * from US_Elections;\n",
        "SELECT SUM(GrandElectors) from sorted_list;"
      ],
      "execution_count": null,
      "outputs": [
        {
          "output_type": "stream",
          "text": [
            " * sqlite://\n",
            "Done.\n",
            "Done.\n"
          ],
          "name": "stdout"
        },
        {
          "output_type": "execute_result",
          "data": {
            "text/html": [
              "<table>\n",
              "    <tr>\n",
              "        <th>SUM(GrandElectors)</th>\n",
              "    </tr>\n",
              "    <tr>\n",
              "        <td>538</td>\n",
              "    </tr>\n",
              "</table>"
            ],
            "text/plain": [
              "[(538,)]"
            ]
          },
          "metadata": {
            "tags": []
          },
          "execution_count": 15
        }
      ]
    },
    {
      "cell_type": "code",
      "metadata": {
        "id": "3GAyUzaZ9bI2",
        "colab_type": "code",
        "colab": {
          "base_uri": "https://localhost:8080/",
          "height": 95
        },
        "outputId": "11a806f9-33b3-4812-ea79-9fda41beb08d"
      },
      "source": [
        "#CHALLENGE 6\n",
        "#compute the half of the total of Grand Electors overall \n",
        "%%sql\n",
        "SELECT (SUM(GrandElectors)/2) from sorted_list;"
      ],
      "execution_count": null,
      "outputs": [
        {
          "output_type": "stream",
          "text": [
            " * sqlite://\n",
            "Done.\n"
          ],
          "name": "stdout"
        },
        {
          "output_type": "execute_result",
          "data": {
            "text/html": [
              "<table>\n",
              "    <tr>\n",
              "        <th>(SUM(GrandElectors)/2)</th>\n",
              "    </tr>\n",
              "    <tr>\n",
              "        <td>269</td>\n",
              "    </tr>\n",
              "</table>"
            ],
            "text/plain": [
              "[(269,)]"
            ]
          },
          "metadata": {
            "tags": []
          },
          "execution_count": 16
        }
      ]
    },
    {
      "cell_type": "code",
      "metadata": {
        "id": "ddQh_mVrAnUN",
        "colab_type": "code",
        "colab": {
          "base_uri": "https://localhost:8080/",
          "height": 662
        },
        "outputId": "c5c32747-4f93-4803-aecb-eb88fd20d484"
      },
      "source": [
        "#CHALLENGE 7\n",
        "#filter our sorted list of states in order to keep only the (top) ones enabling us to reach the computed threshold\n",
        "%%sql\n",
        "select * from ( select a.State, a.GrandElectors, sum(b.GrandElectors)\n",
        "as runningTotal from sorted_list a \n",
        "inner join sorted_list b on a.State >= b.State \n",
        "group by a.State, a.GrandElectors) where runningTotal >= 269;"
      ],
      "execution_count": null,
      "outputs": [
        {
          "output_type": "stream",
          "text": [
            " * sqlite://\n",
            "Done.\n"
          ],
          "name": "stdout"
        },
        {
          "output_type": "execute_result",
          "data": {
            "text/html": [
              "<table>\n",
              "    <tr>\n",
              "        <th>State</th>\n",
              "        <th>GrandElectors</th>\n",
              "        <th>runningTotal</th>\n",
              "    </tr>\n",
              "    <tr>\n",
              "        <td>MINNESOTA</td>\n",
              "        <td>10</td>\n",
              "        <td>269</td>\n",
              "    </tr>\n",
              "    <tr>\n",
              "        <td>MISSISSIPPI</td>\n",
              "        <td>6</td>\n",
              "        <td>275</td>\n",
              "    </tr>\n",
              "    <tr>\n",
              "        <td>MISSOURI</td>\n",
              "        <td>10</td>\n",
              "        <td>285</td>\n",
              "    </tr>\n",
              "    <tr>\n",
              "        <td>MONTANA</td>\n",
              "        <td>3</td>\n",
              "        <td>288</td>\n",
              "    </tr>\n",
              "    <tr>\n",
              "        <td>NEBRASKA</td>\n",
              "        <td>5</td>\n",
              "        <td>293</td>\n",
              "    </tr>\n",
              "    <tr>\n",
              "        <td>NEVADA</td>\n",
              "        <td>6</td>\n",
              "        <td>299</td>\n",
              "    </tr>\n",
              "    <tr>\n",
              "        <td>NEW HAMPSHIRE</td>\n",
              "        <td>4</td>\n",
              "        <td>303</td>\n",
              "    </tr>\n",
              "    <tr>\n",
              "        <td>NEW JERSEY</td>\n",
              "        <td>14</td>\n",
              "        <td>317</td>\n",
              "    </tr>\n",
              "    <tr>\n",
              "        <td>NEW MEXICO</td>\n",
              "        <td>5</td>\n",
              "        <td>322</td>\n",
              "    </tr>\n",
              "    <tr>\n",
              "        <td>NEW YORK</td>\n",
              "        <td>29</td>\n",
              "        <td>351</td>\n",
              "    </tr>\n",
              "    <tr>\n",
              "        <td>NORTH CAROLINA</td>\n",
              "        <td>15</td>\n",
              "        <td>366</td>\n",
              "    </tr>\n",
              "    <tr>\n",
              "        <td>NORTH DAKOTA</td>\n",
              "        <td>3</td>\n",
              "        <td>369</td>\n",
              "    </tr>\n",
              "    <tr>\n",
              "        <td>OHIO</td>\n",
              "        <td>18</td>\n",
              "        <td>387</td>\n",
              "    </tr>\n",
              "    <tr>\n",
              "        <td>OKLAHOMA</td>\n",
              "        <td>7</td>\n",
              "        <td>394</td>\n",
              "    </tr>\n",
              "    <tr>\n",
              "        <td>OREGON</td>\n",
              "        <td>7</td>\n",
              "        <td>401</td>\n",
              "    </tr>\n",
              "    <tr>\n",
              "        <td>PENNSYLVANIA</td>\n",
              "        <td>20</td>\n",
              "        <td>421</td>\n",
              "    </tr>\n",
              "    <tr>\n",
              "        <td>RHODE ISLAND</td>\n",
              "        <td>4</td>\n",
              "        <td>425</td>\n",
              "    </tr>\n",
              "    <tr>\n",
              "        <td>SOUTH CAROLINA</td>\n",
              "        <td>9</td>\n",
              "        <td>434</td>\n",
              "    </tr>\n",
              "    <tr>\n",
              "        <td>SOUTH DAKOTA</td>\n",
              "        <td>3</td>\n",
              "        <td>437</td>\n",
              "    </tr>\n",
              "    <tr>\n",
              "        <td>TENNESSEE</td>\n",
              "        <td>11</td>\n",
              "        <td>448</td>\n",
              "    </tr>\n",
              "    <tr>\n",
              "        <td>TEXAS</td>\n",
              "        <td>38</td>\n",
              "        <td>486</td>\n",
              "    </tr>\n",
              "    <tr>\n",
              "        <td>UTAH</td>\n",
              "        <td>6</td>\n",
              "        <td>492</td>\n",
              "    </tr>\n",
              "    <tr>\n",
              "        <td>VERMONT</td>\n",
              "        <td>3</td>\n",
              "        <td>495</td>\n",
              "    </tr>\n",
              "    <tr>\n",
              "        <td>VIRGINIA</td>\n",
              "        <td>13</td>\n",
              "        <td>508</td>\n",
              "    </tr>\n",
              "    <tr>\n",
              "        <td>WASHINGTON</td>\n",
              "        <td>12</td>\n",
              "        <td>520</td>\n",
              "    </tr>\n",
              "    <tr>\n",
              "        <td>WEST VIRGINIA</td>\n",
              "        <td>5</td>\n",
              "        <td>525</td>\n",
              "    </tr>\n",
              "    <tr>\n",
              "        <td>WISCONSIN</td>\n",
              "        <td>10</td>\n",
              "        <td>535</td>\n",
              "    </tr>\n",
              "    <tr>\n",
              "        <td>WYOMING</td>\n",
              "        <td>3</td>\n",
              "        <td>538</td>\n",
              "    </tr>\n",
              "</table>"
            ],
            "text/plain": [
              "[('MINNESOTA', 10, 269),\n",
              " ('MISSISSIPPI', 6, 275),\n",
              " ('MISSOURI', 10, 285),\n",
              " ('MONTANA', 3, 288),\n",
              " ('NEBRASKA', 5, 293),\n",
              " ('NEVADA', 6, 299),\n",
              " ('NEW HAMPSHIRE', 4, 303),\n",
              " ('NEW JERSEY', 14, 317),\n",
              " ('NEW MEXICO', 5, 322),\n",
              " ('NEW YORK', 29, 351),\n",
              " ('NORTH CAROLINA', 15, 366),\n",
              " ('NORTH DAKOTA', 3, 369),\n",
              " ('OHIO', 18, 387),\n",
              " ('OKLAHOMA', 7, 394),\n",
              " ('OREGON', 7, 401),\n",
              " ('PENNSYLVANIA', 20, 421),\n",
              " ('RHODE ISLAND', 4, 425),\n",
              " ('SOUTH CAROLINA', 9, 434),\n",
              " ('SOUTH DAKOTA', 3, 437),\n",
              " ('TENNESSEE', 11, 448),\n",
              " ('TEXAS', 38, 486),\n",
              " ('UTAH', 6, 492),\n",
              " ('VERMONT', 3, 495),\n",
              " ('VIRGINIA', 13, 508),\n",
              " ('WASHINGTON', 12, 520),\n",
              " ('WEST VIRGINIA', 5, 525),\n",
              " ('WISCONSIN', 10, 535),\n",
              " ('WYOMING', 3, 538)]"
            ]
          },
          "metadata": {
            "tags": []
          },
          "execution_count": 38
        }
      ]
    },
    {
      "cell_type": "markdown",
      "metadata": {
        "id": "uFu-evBPoW4d",
        "colab_type": "text"
      },
      "source": [
        "CONCLUSION.\n",
        "\n",
        "From our study case we can conclude that our client will win if he deploy resources in the states with the running total of over 269, the result is in line with our expectations because if he prioritizes the above states he will increase the return on investment of the campaign. The states are a large number and i would recommend my client to go for it."
      ]
    }
  ]
}